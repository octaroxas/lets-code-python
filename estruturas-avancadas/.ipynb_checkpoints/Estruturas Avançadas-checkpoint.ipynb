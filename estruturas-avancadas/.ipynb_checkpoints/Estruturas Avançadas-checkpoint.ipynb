{
 "cells": [
  {
   "cell_type": "code",
   "execution_count": 44,
   "id": "0f718df6-f32b-4eab-8ee9-88aeb3c93cbc",
   "metadata": {},
   "outputs": [
    {
     "name": "stdout",
     "output_type": "stream",
     "text": [
      "lista ['p1', 'p2', 'p3', 'p4', 'p5', 'p6']\n"
     ]
    }
   ],
   "source": [
    "#listas \n",
    "list = ['p1','p2','p3','p4','p5','p6']\n",
    "print('lista' ,list)"
   ]
  },
  {
   "cell_type": "code",
   "execution_count": 20,
   "id": "7a58d27e-19b3-4483-a68f-54bc0bd28d16",
   "metadata": {},
   "outputs": [
    {
     "name": "stdout",
     "output_type": "stream",
     "text": [
      "p6\n"
     ]
    }
   ],
   "source": [
    "#pegar o último ítem da lista\n",
    "print(list[-1])"
   ]
  },
  {
   "cell_type": "code",
   "execution_count": 19,
   "id": "fe7a47da-457d-4b40-9d8d-f2ab88ac6200",
   "metadata": {},
   "outputs": [
    {
     "name": "stdout",
     "output_type": "stream",
     "text": [
      "p5\n"
     ]
    }
   ],
   "source": [
    "#segundo item, e assim por diante\n",
    "print(list[-2])"
   ]
  },
  {
   "cell_type": "code",
   "execution_count": 18,
   "id": "8f2ac096-cab1-4402-92d6-ef8e042add3a",
   "metadata": {},
   "outputs": [
    {
     "name": "stdout",
     "output_type": "stream",
     "text": [
      "['p1', 'Octacilio', 'p3', 'p4', 'p5', 'p6']\n"
     ]
    }
   ],
   "source": [
    "#alterando um valor na lista\n",
    "list[1] = \"Octacilio\"\n",
    "print(list)"
   ]
  },
  {
   "cell_type": "code",
   "execution_count": 17,
   "id": "f0fbf255-7085-4e21-a340-2fa3b67f7f59",
   "metadata": {},
   "outputs": [
    {
     "name": "stdout",
     "output_type": "stream",
     "text": [
      "['p1', 'p2']\n",
      "['p1', 'p2', 'p3', 'p4', 'p5', 'p6']\n",
      "['p1', 'p2', 'p3', 'p4', 'p5', 'p6']\n"
     ]
    }
   ],
   "source": [
    "#Slice (fatiamento) acessar valores na lsita\n",
    "#O último índice informado é ignorado, e então os valores retornados serão até o índice anterior\n",
    "print(list[0:2])\n",
    "\n",
    "#Fornecendo apenas o indice inicial e os dois pontos, serão retornados todos os itens a partir do primeiro indice\n",
    "print(list[0:])\n",
    "\n",
    "#Fornecendo apenas os dois pontos toda a lista é retorndada\n",
    "print(list[:])\n"
   ]
  },
  {
   "cell_type": "code",
   "execution_count": 23,
   "id": "494b964b-5e27-4945-807a-b0ea50e0ce41",
   "metadata": {},
   "outputs": [
    {
     "name": "stdout",
     "output_type": "stream",
     "text": [
      "['p1', 'p3', 'p5']\n"
     ]
    }
   ],
   "source": [
    "#podemos definir um intervalo de quantos em quantos elementos serão retornados\n",
    "print(list[::2])"
   ]
  },
  {
   "cell_type": "code",
   "execution_count": 24,
   "id": "4fe8575f-f13e-4e96-beff-a156e565deca",
   "metadata": {},
   "outputs": [
    {
     "name": "stdout",
     "output_type": "stream",
     "text": [
      "['p6', 'p5', 'p4', 'p3', 'p2', 'p1']\n"
     ]
    }
   ],
   "source": [
    "#podemos também inverter o retorno dos itens da lista utilizando ::-1 como argumentos\n",
    "'''Retorna a lista em ordem inversa'''\n",
    "print(list[::-1])"
   ]
  },
  {
   "cell_type": "code",
   "execution_count": 27,
   "id": "0dbf0370-5812-4e44-805e-4766476d13db",
   "metadata": {},
   "outputs": [
    {
     "name": "stdout",
     "output_type": "stream",
     "text": [
      "True\n"
     ]
    }
   ],
   "source": [
    "#podemos verificar se um item está contido em uma lista da seguinte forma\n",
    "#lê-se: p4 está contido em list?\n",
    "print(\"p4\" in list) \n",
    "#E o retorno será sempre um valor booleano, True se ele estiver na lista e False caso contrário"
   ]
  },
  {
   "cell_type": "code",
   "execution_count": 28,
   "id": "405c4584-1dcd-4906-b327-1cd87ad48c69",
   "metadata": {},
   "outputs": [
    {
     "name": "stdout",
     "output_type": "stream",
     "text": [
      "True\n"
     ]
    }
   ],
   "source": [
    "#Podemos usar o not também para fazer essa verificação\n",
    "# lê se: p0 não está em list ?\n",
    "print(\"p0\" not in list) "
   ]
  },
  {
   "cell_type": "code",
   "execution_count": 45,
   "id": "eded9e1f-4ab7-4f44-8e6a-82f02972b215",
   "metadata": {},
   "outputs": [
    {
     "name": "stdout",
     "output_type": "stream",
     "text": [
      "['Ola mundos']\n",
      "['Ola mundos', 'Ciencia da Computação']\n",
      "['Ola mundos', 'Ciencia da Computação']\n",
      "['Primeira posição', 'Ola mundos', 'Ciencia da Computação']\n",
      "['Primeira posição', 'Ciencia da Computação']\n"
     ]
    }
   ],
   "source": [
    "#listas podem receber novos itens\n",
    "lista = []\n",
    "#utilizamos o método append para inserir no fim da lista\n",
    "lista.append('Ola mundos')\n",
    "print(lista)\n",
    "\n",
    "#para inserir em uma posição específica da lista usamos o insert\n",
    "lista.insert(len(lista), 'Ciencia da Computação')\n",
    "print(lista)\n",
    "\n",
    "#podemos inserir em uma posição já ocupada na lista, com isso os itens serão movidos um indice a mais para a direita\n",
    "print(lista)\n",
    "lista.insert(0, 'Primeira posição')\n",
    "print(lista)\n",
    "\n",
    "#para remover um item da lista usamos o método remove, este retorna o item que foi removido\n",
    "\n",
    "lista.remove('Ola mundos')\n",
    "print(lista)\n"
   ]
  },
  {
   "cell_type": "code",
   "execution_count": 46,
   "id": "b340f230-2220-4aa9-8357-8826ce40600a",
   "metadata": {},
   "outputs": [],
   "source": [
    "#podemos remover um item da lista informando o valor da sua posição na lista com o pop\n",
    "# esse  método vai retornar o item que foi removido\n",
    "\n",
    "rm = lista.pop(1)\n"
   ]
  },
  {
   "cell_type": "code",
   "execution_count": 56,
   "id": "2af030a0-13b4-4ed0-a313-85534f014616",
   "metadata": {},
   "outputs": [
    {
     "name": "stdout",
     "output_type": "stream",
     "text": [
      "tupla1:  ('Octacilio', 'Roxas', 'Sora', 'Vanitas')\n",
      "('Octacilio', 'Roxas', 'Sora', 'Vanitas')\n",
      "Valores separados em variáveis:  Octacilio Roxas Sora Vanitas\n",
      "Octacilio Roxas Sora Vanitas\n"
     ]
    }
   ],
   "source": [
    "#Tuplas\n",
    "'''São estruturas de dados que uma vez definidas seus valores não podem ser alterados e são definidas da seguinte forma:'''\n",
    "tupla1 = ('Octacilio', 'Roxas', 'Sora', 'Vanitas')\n",
    "print('tupla1: ',tupla1)\n",
    "\n",
    "#também podemos definir uma tupla assim: \n",
    "tupla2 = 'Octacilio', 'Roxas', 'Sora', 'Vanitas'\n",
    "print(tupla2)\n",
    "\n",
    "#também podemos armazenar cada um dos valores de uma tupla de forma desestruturada:\n",
    "a, b, c,d = tupla1 \n",
    "print('Valores separados em variáveis: ',a, b , c,d)\n",
    "\n",
    "#imprime os valores de cada um dos itens da tupla\n",
    "print(*tupla2)\n"
   ]
  },
  {
   "cell_type": "code",
   "execution_count": 63,
   "id": "efa0706c-cb46-4e38-8d8d-07171e3d0a48",
   "metadata": {},
   "outputs": [
    {
     "name": "stdout",
     "output_type": "stream",
     "text": [
      "Let's Code\n"
     ]
    }
   ],
   "source": [
    "#exitem os caracteres de escape, o \\ por exemplo\n",
    "#utilizado para impedir a execução padrão de um determinado caractere, ex:\n",
    "#f = 'Let's Code'\n",
    "# print(f)\n",
    "\n",
    "'''Não será permitido o print na tela dessa forma'''\n",
    "\n",
    "#usando o \\ podemos resolver a isso\n",
    "ff = 'Let\\'s Code'\n",
    "print(ff)"
   ]
  },
  {
   "cell_type": "code",
   "execution_count": 67,
   "id": "87ff83b9-81b9-4bbe-99d4-c6dd5f768b47",
   "metadata": {},
   "outputs": [
    {
     "name": "stdout",
     "output_type": "stream",
     "text": [
      "sluoS kraD\n",
      "Dark\n",
      "ark\n"
     ]
    },
    {
     "data": {
      "text/plain": [
       "'Métodos executados sobre strings sempre retornam a alteração e não alteram a string de fato\\nDiferente dos métodos de listas, que alteram o objeto em si\\n'"
      ]
     },
     "execution_count": 67,
     "metadata": {},
     "output_type": "execute_result"
    }
   ],
   "source": [
    "#podemos acessar os caracteres de uma string de forma semelhante a listas, fornecendo um indice, usando slice para retornar \n",
    "#caracteres específicos, etc\n",
    "palavra = 'Dark Souls'\n",
    "\n",
    "#Retorna a palavra inversa\n",
    "print(palavra[::-1])\n",
    "\n",
    "#retorna desde o primeiro caractere até o terceiro (o quarto caractere é ignorado)/\n",
    "print (palavra[:4])\n",
    "\n",
    "#retorna desde o segundo caractere até o terceiro (o quarto caractere é ignorado)/\n",
    "print (palavra[1:4])\n",
    "\n",
    "'''Métodos executados sobre strings sempre retornam a alteração e não alteram a string de fato\n",
    "Diferente dos métodos de listas, que alteram o objeto em si\n",
    "'''"
   ]
  },
  {
   "cell_type": "code",
   "execution_count": 69,
   "id": "614c6f46-41c1-417b-a859-108b53fc5025",
   "metadata": {},
   "outputs": [
    {
     "name": "stdout",
     "output_type": "stream",
     "text": [
      "['Bloodborne', 'Dark Souls', 'Dark Souls 2: Scholar of the first sin', 'Dark Souls 3']\n"
     ]
    }
   ],
   "source": [
    "#podemos separar ums string com o método split, fornecendo qual o caractere que vai quebrar em varias strings\n",
    "#o retorno do método é um array de strings\n",
    "\n",
    "games = 'Bloodborne, Dark Souls, Dark Souls 2: Scholar of the first sin, Dark Souls 3'\n",
    "\n",
    "games = games.split(', ')\n",
    "print(games)"
   ]
  },
  {
   "cell_type": "code",
   "execution_count": 70,
   "id": "edc59cd4-9805-4daf-9d1a-0e0712dc4761",
   "metadata": {},
   "outputs": [
    {
     "name": "stdout",
     "output_type": "stream",
     "text": [
      "Main Menu\n"
     ]
    }
   ],
   "source": [
    "#método strip -> retirar espaços em branco desnecessários\n",
    "main_menu = '                      Main Menu                              '\n",
    "print(main_menu.strip())"
   ]
  },
  {
   "cell_type": "code",
   "execution_count": 72,
   "id": "860b249a-a60f-43cd-9967-436f380ffc9e",
   "metadata": {},
   "outputs": [
    {
     "name": "stdout",
     "output_type": "stream",
     "text": [
      "Santarem-Pa\n",
      "Santarem-pa\n",
      "santarem-pa\n",
      "SANTAREM-PA\n"
     ]
    }
   ],
   "source": [
    "# Métodos para trabalhar com formatação de strings e variações de caixa\n",
    "cidade = 'SaNtArEm-pA'\n",
    "\n",
    "print(cidade.title())\n",
    "print(cidade.capitalize())\n",
    "print(cidade.lower())\n",
    "print(cidade.upper())"
   ]
  },
  {
   "cell_type": "code",
   "execution_count": 78,
   "id": "379250dc-4529-474c-b1d1-1604e5616fa9",
   "metadata": {},
   "outputs": [
    {
     "name": "stdin",
     "output_type": "stream",
     "text": [
      "Qual o nome do mangá criado por Eichiiro Oda? dede\n"
     ]
    },
    {
     "name": "stdout",
     "output_type": "stream",
     "text": [
      "Errou\n"
     ]
    },
    {
     "name": "stdin",
     "output_type": "stream",
     "text": [
      "Qual o nome do mangá criado por Eichiiro Oda? One PIEce\n"
     ]
    },
    {
     "name": "stdout",
     "output_type": "stream",
     "text": [
      "acertou\n"
     ]
    }
   ],
   "source": [
    "#Comparar entradas do usuário, fazer a verificação, independente de letras maiusculas ou minusculas\n",
    "\n",
    "manga = ''\n",
    "\n",
    "while manga.lower() != 'one piece':\n",
    "    manga = input('Qual o nome do mangá criado por Eichiiro Oda?')\n",
    "    if(manga.lower() == 'one piece'):\n",
    "        print('acertou')\n",
    "    else:\n",
    "        print('Errou')\n",
    "\n",
    "\n"
   ]
  },
  {
   "cell_type": "code",
   "execution_count": 81,
   "id": "a7be8208-9284-4524-a673-380d25e330fa",
   "metadata": {},
   "outputs": [
    {
     "name": "stdout",
     "output_type": "stream",
     "text": [
      "True\n"
     ]
    }
   ],
   "source": [
    "#verificar se uma determinada string está contida em outra string\n",
    "f = 'Bom dia vagabundo, tudo bem ?'\n",
    "print('Vagabundo'.lower() in f)\n",
    "palavra = f[0:4]\n",
    "print(palavra in f)"
   ]
  },
  {
   "cell_type": "code",
   "execution_count": 1,
   "id": "8791eaf5-0565-4272-8588-2a3b6604fadc",
   "metadata": {},
   "outputs": [
    {
     "data": {
      "text/plain": [
       "'Strings pt 2'"
      ]
     },
     "execution_count": 1,
     "metadata": {},
     "output_type": "execute_result"
    }
   ],
   "source": [
    "'''Strings pt 2'''"
   ]
  },
  {
   "cell_type": "code",
   "execution_count": 4,
   "id": "8f4a2837-2cc3-421e-b4d8-6ccb93794525",
   "metadata": {},
   "outputs": [
    {
     "name": "stdout",
     "output_type": "stream",
     "text": [
      "olafulano\n",
      "olaaolaaolaaolaaolaa\n"
     ]
    }
   ],
   "source": [
    "print('ola' + 'fulano') #concatenação\n",
    "frase = 'olaa'\n",
    "\n",
    "print(frase*5) #podemos multiplicar o conteudo da string, será feita a concatenação dos valores"
   ]
  },
  {
   "cell_type": "code",
   "execution_count": 21,
   "id": "1e5d0fdc-71b4-4c40-bc1f-f72c96139d92",
   "metadata": {},
   "outputs": [
    {
     "name": "stdout",
     "output_type": "stream",
     "text": [
      "Ola meu nome é Octacilio, e tenho 21 anos de idade!\n",
      "O valor do produto mouse é de R$ 120.96 reais\n",
      "O valor do produto mouse é de 120.956 reais\n"
     ]
    }
   ],
   "source": [
    "#podemos formatar uma string inserindo valores dinamicos utilizando o método format das strings\n",
    "\n",
    "apresentacao = \"Ola meu nome é {}, e tenho {} anos de idade!\"\n",
    "apresentacao = apresentacao.format('Octacilio', 21) #usando o método não precisamos nos preocupar com a conversão de tipos\n",
    "print(apresentacao)\n",
    "\n",
    "#Formatação de numeros em ponto flutuante\n",
    "\n",
    "produto = {\n",
    "    \"valor\": 120.956,\n",
    "    \"nome\": 'mouse'\n",
    "}\n",
    "\n",
    "frase = 'O valor do produto {} é de R$ {:.2f} reais'\n",
    "\n",
    "#o objeto dicionario definido acima deve ter seus valores acessados como abaixo\n",
    "print(frase.format(produto[\"nome\"],produto[\"valor\"]))\n",
    "\n",
    "#outra forma de formatar strings adicionando o f na frente da stringq\n",
    "\n",
    "print(f'O valor do produto {produto[\"nome\"]} é de {produto[\"valor\"]} reais')"
   ]
  },
  {
   "cell_type": "code",
   "execution_count": 23,
   "id": "58308ff6-7d79-41fe-85b4-3f07e48938a9",
   "metadata": {},
   "outputs": [
    {
     "name": "stdout",
     "output_type": "stream",
     "text": [
      "{'nome': 'Santarém', 'estado': 'PA', 'habitantes': 300.0}\n",
      "{'nome': 'Santarém', 'estado': 'PA', 'habitantes': 300.0, 'pais': 'Brasil'}\n"
     ]
    }
   ],
   "source": [
    "#DIcionarios\n",
    "#pares de chave e valor\n",
    "\n",
    "dados = {\n",
    "    \"nome\": \"Santarém\",\n",
    "    \"estado\": \"PA\",\n",
    "    \"habitantes\": 300.000\n",
    "}\n",
    "print(dados)\n",
    "\n",
    "#podemos inserir um novo par de chave e valor no dicionario\n",
    "#para isso basta usar os parenteses como nas listas e atribuir a uma nova chave um novo valor\n",
    "\n",
    "#note que a chave pais nao exia anteriormente no dicionario, então atribuimos o valor Brasil a chave pais\n",
    "dados['pais'] = 'Brasil'\n",
    "\n",
    "print(dados)"
   ]
  },
  {
   "cell_type": "code",
   "execution_count": 27,
   "id": "1d9b5035-52fb-44a9-8ef0-74a9b32b6e07",
   "metadata": {},
   "outputs": [
    {
     "name": "stdout",
     "output_type": "stream",
     "text": [
      "{'nome': 'Santarém', 'estado': 'PA', 'habitantes': 400.0, 'pais': 'Brasil', 'regiao': 'Norte'}\n"
     ]
    }
   ],
   "source": [
    "# podemos fazer a cópia dos valores de um dicionario e atribuir a um novo\n",
    "# dessa forma ao alterar esse novo dicionario não vamos alterar a referencia do dicionario original\n",
    "\n",
    "dados_2 = dados.copy()\n",
    "\n",
    "#assim, em um novo endereco de memoria os itens estarão armazenados e poderao ser alterados sem efeito cascata\n",
    "\n",
    "#podemos atualizar valores ou adicionar pares de chave e valor com o método update do dicionario\n",
    "\n",
    "res = {\n",
    "   \"habitantes\": 400.000,\n",
    "    \"regiao\": \"Norte\"\n",
    "}\n",
    "\n",
    "dados_2.update(res)\n",
    "print(dados_2)"
   ]
  },
  {
   "cell_type": "code",
   "execution_count": 28,
   "id": "b2e9e155-7d4f-477b-ad51-86baf735ccb8",
   "metadata": {},
   "outputs": [
    {
     "name": "stdout",
     "output_type": "stream",
     "text": [
      "None\n"
     ]
    }
   ],
   "source": [
    "# acessar valores de chaves que nao existem no dicionario usando os colchetes nos retorna um erro\n",
    "# mas podemos usar o método get dos dicionarios para obter valores, pois, caso a chave não exista será retornado\n",
    "#o valor None, facilitando o tratamento caso ocorra\n",
    "\n",
    "print(dados_2.get('Habitantes'))"
   ]
  },
  {
   "cell_type": "code",
   "execution_count": 31,
   "id": "6ac26418-5d8a-4fc8-85ab-28e57596aa16",
   "metadata": {},
   "outputs": [
    {
     "name": "stdout",
     "output_type": "stream",
     "text": [
      "dict_items([('nome', 'Santarém'), ('estado', 'PA'), ('habitantes', 400.0), ('pais', 'Brasil'), ('regiao', 'Norte')])\n",
      "dict_keys(['nome', 'estado', 'habitantes', 'pais', 'regiao'])\n",
      "dict_values(['Santarém', 'PA', 400.0, 'Brasil', 'Norte'])\n"
     ]
    }
   ],
   "source": [
    "# Existem 3 métodos de dicionarios muito úteis '''\n",
    "'''\n",
    "São eles:\n",
    "    keys -> que retorna as chaves daquele dicionario\n",
    "    values -> retorna os valores de todas as chaves\n",
    "    items -> array de items com todas as tuplas do dicionario\n",
    "'''\n",
    "\n",
    "print(dados_2.items())\n",
    "print(dados_2.keys())\n",
    "print(dados_2.values())"
   ]
  },
  {
   "cell_type": "code",
   "execution_count": 41,
   "id": "823a8e58-4b3a-4ca7-a40d-44081feab521",
   "metadata": {},
   "outputs": [
    {
     "name": "stdout",
     "output_type": "stream",
     "text": [
      "ola\n",
      "deliarar\n",
      "laialaia\n",
      "('ola', 'tudo', 'bem', 'com', 'vc')\n",
      "ola\n",
      "tudo\n",
      "bem\n",
      "com\n",
      "vc\n",
      "----------------------------\n",
      "chave: nome valor: octa\n",
      "chave: idade valor: 21\n"
     ]
    }
   ],
   "source": [
    "#Estruturas de repetição\n",
    "\n",
    "list = ['ola','deliarar','laialaia']\n",
    "\n",
    "for i in list:\n",
    "    print(i)\n",
    "    \n",
    "# o for retorna uma cópia do item iterado naquele momento, por isso nao é possivel alterar diretamente a lista iterada\n",
    " #tuplas também podem ser iterados com o for in\n",
    "tupla = 'ola', 'tudo', 'bem', 'com', 'vc'\n",
    "\n",
    "print(tupla)\n",
    "for i in tupla:\n",
    "    print(i)\n",
    "\n",
    "#dicionarios tambem \n",
    "\n",
    "dic = {\n",
    "    \"nome\":\"octa\",\n",
    "    \"idade\": \"21\"\n",
    "}\n",
    "\n",
    "print('----------------------------')\n",
    "#acessando os valores de um dicioanrio\n",
    "for i in dic:\n",
    "    print(f'chave: {i} valor: {dic[i]}')\n"
   ]
  },
  {
   "cell_type": "code",
   "execution_count": 53,
   "id": "9f78c07c-1a88-4c3b-b2e3-e4d60c18cbdc",
   "metadata": {},
   "outputs": [
    {
     "name": "stdout",
     "output_type": "stream",
     "text": [
      "0\n",
      "1\n",
      "2\n",
      "3\n",
      "4\n",
      "5\n",
      "6\n",
      "7\n",
      "8\n",
      "9\n"
     ]
    },
    {
     "data": {
      "text/plain": [
       "range(2, 10, 2)"
      ]
     },
     "execution_count": 53,
     "metadata": {},
     "output_type": "execute_result"
    }
   ],
   "source": [
    "# a função range nos retorna uma lista baseada nos argumentos que recebe\n",
    "\n",
    "\n",
    "[range(10)]\n",
    "\n",
    "#intervalo de 0 a 9\n",
    "for i in range(10):\n",
    "    print(i)\n",
    "\n",
    "range(1,4)\n",
    "range(2,10,2)"
   ]
  },
  {
   "cell_type": "code",
   "execution_count": 65,
   "id": "b33ae349-ec2e-4877-bafd-f4094765a692",
   "metadata": {},
   "outputs": [
    {
     "name": "stdout",
     "output_type": "stream",
     "text": [
      "3\n",
      "11\n"
     ]
    }
   ],
   "source": [
    "#funções\n",
    "\n",
    "def sum(a , b):\n",
    "    print(a + b)\n",
    "\n",
    "sum(1,2)\n",
    "\n",
    "#setadno valores padrão\n",
    "#os argumentos nao pradrao devem vir todos antes dos padroes\n",
    "def sub( a=52, b=2):\n",
    "    print(a-b)\n",
    "\n",
    "sub(12,1)\n"
   ]
  },
  {
   "cell_type": "code",
   "execution_count": 66,
   "id": "eb8828ef-a800-44aa-bdaf-1fb30903924c",
   "metadata": {},
   "outputs": [
    {
     "name": "stdout",
     "output_type": "stream",
     "text": [
      "(1, 3, 4, 5, 5, 7, 8, 89, 9)\n"
     ]
    }
   ],
   "source": [
    "#Args e cords\n",
    "\n",
    "#podemos fazer com que nossas funções possam receber uma quantidade de parametros dinamica\n",
    "#o tipo dessa variavel que vai receber todos os parametros é uma tupla\n",
    "def add(*args, default=0):\n",
    "    print(args)\n",
    "\n",
    "add(1,3,4,5,5,7,8,89,9)\n",
    "\n"
   ]
  },
  {
   "cell_type": "code",
   "execution_count": 68,
   "id": "828cdb35-c75a-4528-84ca-5c7f84071de4",
   "metadata": {},
   "outputs": [
    {
     "name": "stdout",
     "output_type": "stream",
     "text": [
      "{'nome': 'octacilio', 'idade': '21'} <class 'dict'>\n"
     ]
    }
   ],
   "source": [
    "#cords\n",
    "#ou Key word arguments\n",
    "'''Definimos nos argumentos da função argumentos que vao formar um par de chave e valor\n",
    "usando dois asteristicos nos parametros'''\n",
    "# kwards é apenas um aconvensão para key word arguments\n",
    "def infos(**kwargs):\n",
    "    print(kwargs, type(kwargs))\n",
    "\n",
    "\n",
    "# e informamos o nome da chave e atribuimos um avalor    \n",
    "infos(nome='octacilio', idade='21')"
   ]
  },
  {
   "cell_type": "code",
   "execution_count": null,
   "id": "a6963486-553d-41d5-b1fd-9595e6e430b8",
   "metadata": {},
   "outputs": [],
   "source": []
  }
 ],
 "metadata": {
  "kernelspec": {
   "display_name": "Python 3",
   "language": "python",
   "name": "python3"
  },
  "language_info": {
   "codemirror_mode": {
    "name": "ipython",
    "version": 3
   },
   "file_extension": ".py",
   "mimetype": "text/x-python",
   "name": "python",
   "nbconvert_exporter": "python",
   "pygments_lexer": "ipython3",
   "version": "3.8.8"
  }
 },
 "nbformat": 4,
 "nbformat_minor": 5
}
